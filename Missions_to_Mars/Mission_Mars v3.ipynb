{
 "cells": [
  {
   "cell_type": "code",
   "execution_count": null,
   "metadata": {},
   "outputs": [],
   "source": [
    "#pip install webdriver_manager"
   ]
  },
  {
   "cell_type": "code",
   "execution_count": null,
   "metadata": {},
   "outputs": [],
   "source": [
    "#pip install splinter"
   ]
  },
  {
   "cell_type": "code",
   "execution_count": 1,
   "metadata": {},
   "outputs": [],
   "source": [
    "from splinter import Browser\n",
    "from bs4 import BeautifulSoup as bs\n",
    "from webdriver_manager.chrome import ChromeDriverManager\n",
    "#from splinter.exceptions import ElementDoesNotExist\n",
    "import requests\n",
    "import pandas as pd\n",
    "import re\n",
    "import time"
   ]
  },
  {
   "cell_type": "markdown",
   "metadata": {},
   "source": [
    "# Mac Users"
   ]
  },
  {
   "cell_type": "code",
   "execution_count": null,
   "metadata": {},
   "outputs": [],
   "source": [
    "# https://splinter.readthedocs.io/en/latest/drivers/chrome.html\n",
    "!which chromedriver"
   ]
  },
  {
   "cell_type": "code",
   "execution_count": null,
   "metadata": {},
   "outputs": [],
   "source": [
    "executable_path = {'executable_path': '/usr/local/bin/chromedriver'}\n",
    "browser = Browser('chrome', **executable_path, headless=False)"
   ]
  },
  {
   "cell_type": "markdown",
   "metadata": {},
   "source": [
    "# Windows Users"
   ]
  },
  {
   "cell_type": "code",
   "execution_count": null,
   "metadata": {},
   "outputs": [],
   "source": [
    "# executable_path = {'executable_path': 'chromedriver.exe'}\n",
    "# browser = Browser('chrome', **executable_path, headless=False)"
   ]
  },
  {
   "cell_type": "code",
   "execution_count": 2,
   "metadata": {},
   "outputs": [
    {
     "name": "stderr",
     "output_type": "stream",
     "text": [
      "[WDM] - Current google-chrome version is 87.0.4280\n",
      "[WDM] - Get LATEST driver version for 87.0.4280\n",
      "[WDM] - Driver [C:\\Users\\223005380\\.wdm\\drivers\\chromedriver\\win32\\87.0.4280.88\\chromedriver.exe] found in cache\n"
     ]
    },
    {
     "name": "stdout",
     "output_type": "stream",
     "text": [
      " \n"
     ]
    }
   ],
   "source": [
    "#We are installing the webdriver (robot)\n",
    "executable_path = {\"executable_path\": ChromeDriverManager().install()}\n",
    "#Splinter is creating a browser window with the robot\n",
    "browser = Browser(\"chrome\", **executable_path, headless=False)"
   ]
  },
  {
   "cell_type": "markdown",
   "metadata": {},
   "source": [
    "#### NASA Mars News"
   ]
  },
  {
   "cell_type": "code",
   "execution_count": null,
   "metadata": {},
   "outputs": [],
   "source": [
    "browser.visit(\"https://mars.nasa.gov/news/\")"
   ]
  },
  {
   "cell_type": "code",
   "execution_count": null,
   "metadata": {},
   "outputs": [],
   "source": [
    "html = browser.html\n",
    "#html"
   ]
  },
  {
   "cell_type": "code",
   "execution_count": null,
   "metadata": {},
   "outputs": [],
   "source": [
    "# Create a Beautiful Soup object\n",
    "soup_Mars_News = bs(html, 'html.parser')\n",
    "type(soup_Mars_News)"
   ]
  },
  {
   "cell_type": "code",
   "execution_count": null,
   "metadata": {},
   "outputs": [],
   "source": [
    "#print(soup_Mars_News.prettify())"
   ]
  },
  {
   "cell_type": "code",
   "execution_count": null,
   "metadata": {},
   "outputs": [],
   "source": [
    "news_title = []\n",
    "news_p = []\n",
    "mars = {}\n",
    "\n",
    "#iterating to get the title from the beautiful soup object\n",
    "news = soup_Mars_News.find_all(\"div\", class_=\"bottom_gradient\")\n",
    "for n in news:\n",
    "    #print(n.text)\n",
    "    news_title.append(n.text)\n",
    "#print(len(news_title))\n",
    "\n",
    "#iterating to get the paragraph from the beautiful soup object\n",
    "news = soup_Mars_News.find_all(\"div\", class_=\"article_teaser_body\")\n",
    "for n in news:\n",
    "    #print(n.text)\n",
    "    news_p.append(n.text)\n",
    "#print(len(news_p))\n",
    "\n",
    "#The following creates a Data Frame (Commented because it is not required)\n",
    "# news_df = {\"Title\":news_title,\"Paragraph\":news_p} \n",
    "# news_df = pd.DataFrame(news_l, columns=['Title','Paragraph'])\n",
    "# news_df\n",
    "\n",
    "#Just display the first item\n",
    "mars[\"news_title\"]= news_title[0]\n",
    "mars[\"news_p\"]= news_p[0]\n",
    "mars"
   ]
  },
  {
   "cell_type": "markdown",
   "metadata": {},
   "source": [
    "#### JPL Mars Space Images - Featured Image"
   ]
  },
  {
   "cell_type": "code",
   "execution_count": null,
   "metadata": {},
   "outputs": [],
   "source": [
    "browser.visit(\"https://www.jpl.nasa.gov/spaceimages/?search=&category=Mars\")"
   ]
  },
  {
   "cell_type": "code",
   "execution_count": null,
   "metadata": {},
   "outputs": [],
   "source": [
    "html = browser.html\n",
    "#html"
   ]
  },
  {
   "cell_type": "code",
   "execution_count": null,
   "metadata": {},
   "outputs": [],
   "source": [
    "# Create a Beautiful Soup object\n",
    "soup_Mars_Images = bs(html, 'html.parser')\n",
    "type(soup_Mars_Images)"
   ]
  },
  {
   "cell_type": "code",
   "execution_count": null,
   "metadata": {},
   "outputs": [],
   "source": [
    "#print(soup_Mars_Images.prettify())"
   ]
  },
  {
   "cell_type": "code",
   "execution_count": null,
   "metadata": {},
   "outputs": [],
   "source": [
    "#Use splinter to navigate the site and find the image url for the current Featured Mars Image and assign the url\n",
    "#string to a variable called `featured_image_url`.\n",
    "\n",
    "#NOTE: Through this code I extracted the medium size image (not required), next cell contains the largesize image \n",
    "#The image is contained in a div class \"carousel_items\" in a <a> class \"buttom fancybox\"\n",
    "featured_image_url2 = soup_Mars_Images.find(\"a\", class_=\"button fancybox\").get('data-fancybox-href')\n",
    "print(featured_image_url2)\n",
    "featured_image_url2 = f'https://www.jpl.nasa.gov{featured_image_url2}'\n",
    "featured_image_url2"
   ]
  },
  {
   "cell_type": "code",
   "execution_count": null,
   "metadata": {},
   "outputs": [],
   "source": [
    "#Use splinter to navigate the site and find the image url for the current Featured Mars Image and assign the url\n",
    "#string to a variable called `featured_image_url`.\n",
    "\n",
    "#NOTE: This code extracts the LargeImage and save it in to a key of the Mars dictionary\n",
    "browser.visit(\"https://www.jpl.nasa.gov/spaceimages/?search=&category=Mars\")\n",
    "time.sleep(2)\n",
    "browser.find_by_id(\"full_image\").click()\n",
    "time.sleep(2)\n",
    "browser.links.find_by_partial_text(\"more info\").click() #find_link_by_partial_text\n",
    "time.sleep(2)\n",
    "soup_mars_images = bs(browser.html, 'html.parser')\n",
    "result = soup_mars_images.find(\"figure\", class_=\"lede\").a.img[\"src\"]\n",
    "result =f'https://www.jpl.nasa.gov{result}'\n",
    "mars[\"featured_image\"]=result\n",
    "print(result)"
   ]
  },
  {
   "cell_type": "markdown",
   "metadata": {},
   "source": [
    "### Mars Weather"
   ]
  },
  {
   "cell_type": "code",
   "execution_count": null,
   "metadata": {},
   "outputs": [],
   "source": [
    "browser.visit(\"https://twitter.com/marswxreport?lang=en\")\n",
    "time.sleep(1)\n",
    "# browser.find_by_css('.css-901oao').links.find_by_partial_text('InSight')\n",
    "\n",
    "browser.execute_script(\"window.scrollTo(1, document.body.scrollHeight);\")\n",
    "\n",
    "#browser.links.find_by_partial_text('InSight')\n",
    "#time.sleep(2)\n",
    "#browser.reload()"
   ]
  },
  {
   "cell_type": "code",
   "execution_count": null,
   "metadata": {},
   "outputs": [],
   "source": [
    "#html = browser.html"
   ]
  },
  {
   "cell_type": "code",
   "execution_count": null,
   "metadata": {},
   "outputs": [],
   "source": [
    "# Create a Beautiful Soup object\n",
    "soup_tweet = bs(browser.html, 'html.parser')\n",
    "type(soup_tweet)"
   ]
  },
  {
   "cell_type": "code",
   "execution_count": null,
   "metadata": {},
   "outputs": [],
   "source": [
    "print(soup_tweet.prettify())"
   ]
  },
  {
   "cell_type": "code",
   "execution_count": null,
   "metadata": {},
   "outputs": [],
   "source": [
    "#scrape the latest Mars weather tweet. Save the tweet text for the weather report as a variable called `mars_weather`\n",
    "mars_weather = soup_tweet.find(\"span\", text=re.compile('InSight '))# class_=re.compile('css-901oao'), .span[text=re.compile('InSight')] #, text=re.compile('InSight'))\n",
    "mars[\"weather\"]=mars_weather.string\n",
    "print(mars_weather.string)\n",
    "mars[\"weather\"]"
   ]
  },
  {
   "cell_type": "code",
   "execution_count": null,
   "metadata": {},
   "outputs": [],
   "source": [
    "mars_weather2 = soup_tweet.find_all('span', class_=re.compile('css-901oao'), text=re.compile('InSight'))\n",
    "for x in mars_weather2:\n",
    "    print(x.string)\n",
    "# mars_weather = soup_tweet.find(\"span\", text=re.compile('InSight'))\n",
    "#print(mars_weather)"
   ]
  },
  {
   "cell_type": "markdown",
   "metadata": {},
   "source": [
    "### Mars Facts"
   ]
  },
  {
   "cell_type": "code",
   "execution_count": null,
   "metadata": {},
   "outputs": [],
   "source": [
    "url = 'https://space-facts.com/mars/'"
   ]
  },
  {
   "cell_type": "code",
   "execution_count": null,
   "metadata": {},
   "outputs": [],
   "source": [
    "#use Pandas to scrape the table containing facts about the planet including Diameter, Mass, etc.\n",
    "tables = pd.read_html(url)\n",
    "tables"
   ]
  },
  {
   "cell_type": "code",
   "execution_count": null,
   "metadata": {},
   "outputs": [],
   "source": [
    "table1 = tables[0]\n",
    "table1.columns = ['Fact', 'Value']\n",
    "table1.set_index('Fact', inplace=True)\n",
    "table1"
   ]
  },
  {
   "cell_type": "code",
   "execution_count": null,
   "metadata": {},
   "outputs": [],
   "source": [
    "table2 = tables[1]\n",
    "table2.rename(columns={'Mars - Earth Comparison': 'Facts'}, inplace=True)\n",
    "table2.set_index('Facts', inplace=True)\n",
    "table2"
   ]
  },
  {
   "cell_type": "code",
   "execution_count": null,
   "metadata": {},
   "outputs": [],
   "source": [
    "#Use Pandas to convert the data to a HTML table string.\n",
    "html_table1 = table1.to_html()\n",
    "print(html_table1)\n",
    "mars[\"facts\"]=html_table1"
   ]
  },
  {
   "cell_type": "code",
   "execution_count": null,
   "metadata": {},
   "outputs": [],
   "source": [
    "table1.to_html('Resources/Raw_table1.html')"
   ]
  },
  {
   "cell_type": "code",
   "execution_count": null,
   "metadata": {},
   "outputs": [],
   "source": [
    "#Use Pandas to convert the data to a HTML table string.\n",
    "html_table2 = table1.to_html()\n",
    "print(html_table2)"
   ]
  },
  {
   "cell_type": "code",
   "execution_count": null,
   "metadata": {},
   "outputs": [],
   "source": [
    "table2.to_html('Resources/Raw_table2.html')"
   ]
  },
  {
   "cell_type": "markdown",
   "metadata": {},
   "source": [
    "### Mars Hemispheres"
   ]
  },
  {
   "cell_type": "code",
   "execution_count": null,
   "metadata": {},
   "outputs": [],
   "source": [
    "#click each of the links to the hemispheres in order to find the image url to the full resolution image"
   ]
  },
  {
   "cell_type": "code",
   "execution_count": null,
   "metadata": {},
   "outputs": [],
   "source": [
    "#Save both the image url string for the hemisphere image, and the Hemisphere title containing the hemisphere name\n",
    "#Use a Python dictionary to store the data using the keys `img_url` and `title`."
   ]
  },
  {
   "cell_type": "code",
   "execution_count": null,
   "metadata": {},
   "outputs": [],
   "source": [
    "#Append the dictionary with the image url string and the hemisphere title to a list. \n",
    "#This list will contain one dictionary for each hemisphere.\n",
    "# hemisphere_image_urls = [\n",
    "#     {\"title\": \"Valles Marineris Hemisphere\", \"img_url\": \"...\"},\n",
    "#     {\"title\": \"Cerberus Hemisphere\", \"img_url\": \"...\"},\n",
    "#     {\"title\": \"Schiaparelli Hemisphere\", \"img_url\": \"...\"},\n",
    "#     {\"title\": \"Syrtis Major Hemisphere\", \"img_url\": \"...\"},\n",
    "# ]"
   ]
  },
  {
   "cell_type": "code",
   "execution_count": 3,
   "metadata": {},
   "outputs": [],
   "source": [
    "browser.visit(\"https://astrogeology.usgs.gov/search/results?q=hemisphere+enhanced&k1=target&v1=Mars\")"
   ]
  },
  {
   "cell_type": "code",
   "execution_count": 4,
   "metadata": {},
   "outputs": [],
   "source": [
    "html = browser.html\n",
    "#html"
   ]
  },
  {
   "cell_type": "code",
   "execution_count": 5,
   "metadata": {},
   "outputs": [
    {
     "data": {
      "text/plain": [
       "bs4.BeautifulSoup"
      ]
     },
     "execution_count": 5,
     "metadata": {},
     "output_type": "execute_result"
    }
   ],
   "source": [
    "# Create a Beautiful Soup object\n",
    "soup_hemispheres = bs(html, 'html.parser')\n",
    "type(soup_hemispheres)"
   ]
  },
  {
   "cell_type": "code",
   "execution_count": null,
   "metadata": {},
   "outputs": [],
   "source": [
    "#print(soup_hemispheres.prettify())"
   ]
  },
  {
   "cell_type": "code",
   "execution_count": 32,
   "metadata": {},
   "outputs": [
    {
     "data": {
      "text/plain": [
       "['Cerberus Hemisphere Enhanced',\n",
       " 'Schiaparelli Hemisphere Enhanced',\n",
       " 'Syrtis Major Hemisphere Enhanced',\n",
       " 'Valles Marineris Hemisphere Enhanced']"
      ]
     },
     "execution_count": 32,
     "metadata": {},
     "output_type": "execute_result"
    }
   ],
   "source": [
    "hem_title = soup_hemispheres.find_all('h3')\n",
    "for x in range(0, len(hem_title)):\n",
    "    hem_title[x]= hem_title[x].text\n",
    "hem_title    "
   ]
  },
  {
   "cell_type": "code",
   "execution_count": null,
   "metadata": {},
   "outputs": [],
   "source": [
    "#Low resolution images at home page\n",
    "lr_img = soup_hemispheres.find_all('img', class_=\"thumb\")\n",
    "for link in lr_img:\n",
    "    print(f'https://astrogeology.usgs.gov/{link.get(\"src\")}')"
   ]
  },
  {
   "cell_type": "code",
   "execution_count": 35,
   "metadata": {},
   "outputs": [
    {
     "data": {
      "text/plain": [
       "[{'title': 'Cerberus Hemisphere Enhanced',\n",
       "  'img_url': 'https://astropedia.astrogeology.usgs.gov/download/Mars/Viking/cerberus_enhanced.tif/full.jpg'},\n",
       " {'title': 'Schiaparelli Hemisphere Enhanced',\n",
       "  'img_url': 'https://astropedia.astrogeology.usgs.gov/download/Mars/Viking/schiaparelli_enhanced.tif/full.jpg'},\n",
       " {'title': 'Syrtis Major Hemisphere Enhanced',\n",
       "  'img_url': 'https://astropedia.astrogeology.usgs.gov/download/Mars/Viking/syrtis_major_enhanced.tif/full.jpg'},\n",
       " {'title': 'Valles Marineris Hemisphere Enhanced',\n",
       "  'img_url': 'https://astropedia.astrogeology.usgs.gov/download/Mars/Viking/valles_marineris_enhanced.tif/full.jpg'}]"
      ]
     },
     "execution_count": 35,
     "metadata": {},
     "output_type": "execute_result"
    }
   ],
   "source": [
    "browser.visit(\"https://astrogeology.usgs.gov/search/results?q=hemisphere+enhanced&k1=target&v1=Mars\")\n",
    "soup_hemispheres = bs(browser.html, 'html.parser')\n",
    "#Getting the titles of the hemispheres from h3 tag\n",
    "hem_title = soup_hemispheres.find_all('h3')\n",
    "for x in range(0, len(hem_title)):\n",
    "    hem_title[x]= hem_title[x].text\n",
    "\n",
    "dict={}\n",
    "dict['title'] = []\n",
    "dict['img_url'] = []\n",
    "c=0\n",
    "hem_url=[]\n",
    "\n",
    "for titulo in hem_title:\n",
    "    hemispheres={}\n",
    "    browser.links.find_by_partial_text(titulo).click()  #hem_title[c].string).click() #this one worked\n",
    "    #browser.links.find_by_partial_text(hem_title[c]).click() #this one worked\n",
    "    #browser.find_by_name(hem_title[titulo].string).click() #this one did not work\n",
    "    #hem_title[0].string\n",
    "    html2 = browser.html\n",
    "    soup_hd_img = bs(html2, 'html.parser')\n",
    "    hd_img = soup_hd_img.find('a', target=\"_blank\", text=('Sample')).get('href')   #['href']\n",
    "    hemispheres['title']= titulo  #hem_title[c].string\n",
    "    hemispheres['img_url']= hd_img\n",
    "    hem_url.append(hemispheres)\n",
    "    browser.back()\n",
    "    c=c+1\n",
    "    \n",
    "hem_url"
   ]
  },
  {
   "cell_type": "code",
   "execution_count": 36,
   "metadata": {},
   "outputs": [
    {
     "ename": "NameError",
     "evalue": "name 'mars' is not defined",
     "output_type": "error",
     "traceback": [
      "\u001b[1;31m---------------------------------------------------------------------------\u001b[0m",
      "\u001b[1;31mNameError\u001b[0m                                 Traceback (most recent call last)",
      "\u001b[1;32m<ipython-input-36-971338bb2641>\u001b[0m in \u001b[0;36m<module>\u001b[1;34m\u001b[0m\n\u001b[1;32m----> 1\u001b[1;33m \u001b[0mmars\u001b[0m\u001b[1;33m[\u001b[0m\u001b[1;34m\"hemispheres\"\u001b[0m\u001b[1;33m]\u001b[0m\u001b[1;33m=\u001b[0m \u001b[0mhem_url\u001b[0m\u001b[1;33m\u001b[0m\u001b[1;33m\u001b[0m\u001b[0m\n\u001b[0m",
      "\u001b[1;31mNameError\u001b[0m: name 'mars' is not defined"
     ]
    }
   ],
   "source": [
    "mars[\"hemispheres\"]= hem_url"
   ]
  },
  {
   "cell_type": "code",
   "execution_count": null,
   "metadata": {},
   "outputs": [],
   "source": [
    "mars"
   ]
  },
  {
   "cell_type": "code",
   "execution_count": null,
   "metadata": {},
   "outputs": [],
   "source": [
    "browser.quit()"
   ]
  }
 ],
 "metadata": {
  "kernelspec": {
   "display_name": "Python 3",
   "language": "python",
   "name": "python3"
  },
  "language_info": {
   "codemirror_mode": {
    "name": "ipython",
    "version": 3
   },
   "file_extension": ".py",
   "mimetype": "text/x-python",
   "name": "python",
   "nbconvert_exporter": "python",
   "pygments_lexer": "ipython3",
   "version": "3.8.3"
  },
  "varInspector": {
   "cols": {
    "lenName": 16,
    "lenType": 16,
    "lenVar": 40
   },
   "kernels_config": {
    "python": {
     "delete_cmd_postfix": "",
     "delete_cmd_prefix": "del ",
     "library": "var_list.py",
     "varRefreshCmd": "print(var_dic_list())"
    },
    "r": {
     "delete_cmd_postfix": ") ",
     "delete_cmd_prefix": "rm(",
     "library": "var_list.r",
     "varRefreshCmd": "cat(var_dic_list()) "
    }
   },
   "types_to_exclude": [
    "module",
    "function",
    "builtin_function_or_method",
    "instance",
    "_Feature"
   ],
   "window_display": false
  }
 },
 "nbformat": 4,
 "nbformat_minor": 2
}
